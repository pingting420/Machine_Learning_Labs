{
 "cells": [
  {
   "cell_type": "code",
   "execution_count": 4,
   "metadata": {},
   "outputs": [
    {
     "name": "stdout",
     "output_type": "stream",
     "text": [
      "neighbors NearestNeighbors(n_neighbors=3)\n",
      "samples [1 2 3]\n",
      "nna [0 3 4]\n",
      "samples [4 5 6]\n",
      "nna [1 4 5]\n",
      "samples [2 3 1]\n",
      "nna [2 3 0]\n",
      "samples [2 1 2]\n",
      "nna [3 0 2]\n",
      "samples [2 3 4]\n",
      "nna [4 5 0]\n",
      "samples [2 3 4]\n",
      "nna [4 5 0]\n",
      "[array([1.61713725, 1.38286275, 2.38286275]), array([4., 5., 6.]), array([1.00683511, 2.00683511, 2.98632978]), array([2., 1., 2.]), array([1.25870351, 2.25870351, 3.25870351]), array([2., 3., 4.])]\n"
     ]
    }
   ],
   "source": [
    "#SMOTE\n",
    "import random\n",
    "from sklearn.neighbors import NearestNeighbors\n",
    "import numpy as np\n",
    " \n",
    "class Smote:\n",
    "    def __init__(self,samples,N=10,k=5):\n",
    "        self.N=N\n",
    "        self.k=k\n",
    "        self.samples=samples\n",
    "    def over_sampling(self):\n",
    "        neighbors=NearestNeighbors(n_neighbors=self.k).fit(self.samples)\n",
    "        print('neighbors',neighbors)\n",
    "        synthetic = []\n",
    "        for i in range(len(self.samples)):\n",
    "            print('samples',self.samples[i])\n",
    "            nnarray=neighbors.kneighbors(self.samples[i].reshape((1,-1)),return_distance=False)[0]  #Finds the K-neighbors of a point.\n",
    "            print ('nna',nnarray)\n",
    "            synthetic = self._populate(i,nnarray, synthetic)\n",
    "        return synthetic\n",
    " # for each minority class sample i ,choose N of the k nearest neighbors and generate N synthetic samples.\n",
    "    def _populate(self,i,nnarray, synthetic):\n",
    "        for j in range(self.N):\n",
    "            nn=random.randint(0,self.k-1) \n",
    "            dif=self.samples[nnarray[nn]]-self.samples[i]\n",
    "            gap=random.random()\n",
    "            synthetic.append(self.samples[i]+gap*dif)\n",
    "            return synthetic\n",
    "if __name__ == '__main__':\n",
    "    a=np.array([[1,2,3],[4,5,6],[2,3,1],[2,1,2],[2,3,4],[2,3,4]])\n",
    "    s=Smote(a,N=5,k=3)\n",
    "    aa = s.over_sampling()\n",
    "    print(aa)"
   ]
  },
  {
   "cell_type": "code",
   "execution_count": 5,
   "metadata": {},
   "outputs": [],
   "source": [
    "class Smote:\n",
    "    def __init__(self,samples,N=10,k=5):\n",
    "        self.N=N\n",
    "        self.k=k\n",
    "        self.samples=samples\n",
    "    def over_sampling(self):\n",
    "        neighbors=NearestNeighbors(n_neighbors=self.k).fit(self.samples)\n",
    "        print('neighbors',neighbors)\n",
    "        synthetic = []\n",
    "        for i in range(len(self.samples)):\n",
    "            print('samples',self.samples[i])\n",
    "            nnarray=neighbors.kneighbors(self.samples[i].reshape((1,-1)),return_distance=False)[0]  #Finds the K-neighbors of a point.\n",
    "            print ('nna',nnarray)\n",
    "            synthetic = self._populate(i,nnarray, synthetic)\n",
    "        return synthetic\n",
    " # for each minority class sample i ,choose N of the k nearest neighbors and generate N synthetic samples.\n",
    "    def _populate(self,i,nnarray, synthetic):\n",
    "        for j in range(self.N):\n",
    "            nn=random.randint(0,self.k-1) \n",
    "            dif=self.samples[nnarray[nn]]-self.samples[i]\n",
    "            gap=random.random()\n",
    "            synthetic.append(self.samples[i]+gap*dif)\n",
    "            return synthetic"
   ]
  },
  {
   "cell_type": "code",
   "execution_count": null,
   "metadata": {},
   "outputs": [],
   "source": []
  }
 ],
 "metadata": {
  "kernelspec": {
   "display_name": "Python 3",
   "language": "python",
   "name": "python3"
  },
  "language_info": {
   "codemirror_mode": {
    "name": "ipython",
    "version": 3
   },
   "file_extension": ".py",
   "mimetype": "text/x-python",
   "name": "python",
   "nbconvert_exporter": "python",
   "pygments_lexer": "ipython3",
   "version": "3.8.5"
  }
 },
 "nbformat": 4,
 "nbformat_minor": 4
}
